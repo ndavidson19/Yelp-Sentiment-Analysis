{
 "cells": [
  {
   "cell_type": "markdown",
   "id": "fc221915",
   "metadata": {},
   "source": [
    "# **Data Preprocessing**"
   ]
  },
  {
   "cell_type": "code",
   "execution_count": 1,
   "id": "aa99fa24",
   "metadata": {},
   "outputs": [],
   "source": [
    "import json\n",
    "import numpy as np\n",
    "import pandas as pd\n",
    "import os\n",
    "import re\n",
    "import pickle\n",
    "import nltk\n",
    "import matplotlib.pyplot as plt\n",
    "from mlxtend.plotting import plot_confusion_matrix\n",
    "from nltk.corpus import stopwords\n",
    "from nltk.stem import WordNetLemmatizer\n",
    "from sklearn.feature_extraction.text import CountVectorizer\n",
    "from sklearn.linear_model import LogisticRegression\n",
    "from sklearn.metrics import confusion_matrix, classification_report\n",
    "from sklearn.svm import SVC\n",
    "from sklearn.model_selection import train_test_split\n",
    "from sklearn.naive_bayes import MultinomialNB"
   ]
  },
  {
   "cell_type": "code",
   "execution_count": 2,
   "id": "0a887632",
   "metadata": {},
   "outputs": [],
   "source": [
    "User_id = []\n",
    "Bus_id = []\n",
    "Star = []\n",
    "Useful = []\n",
    "Funny = []\n",
    "Cool = []\n",
    "Text = []\n",
    "I=1"
   ]
  },
  {
   "cell_type": "code",
   "execution_count": 3,
   "id": "83a33f27",
   "metadata": {},
   "outputs": [
    {
     "name": "stderr",
     "output_type": "stream",
     "text": [
      "[nltk_data] Downloading package stopwords to\n",
      "[nltk_data]     /Users/ndavidson/nltk_data...\n",
      "[nltk_data]   Package stopwords is already up-to-date!\n",
      "[nltk_data] Downloading package wordnet to\n",
      "[nltk_data]     /Users/ndavidson/nltk_data...\n",
      "[nltk_data]   Package wordnet is already up-to-date!\n",
      "[nltk_data] Downloading package omw-1.4 to\n",
      "[nltk_data]     /Users/ndavidson/nltk_data...\n",
      "[nltk_data]   Package omw-1.4 is already up-to-date!\n"
     ]
    },
    {
     "data": {
      "text/plain": [
       "True"
      ]
     },
     "execution_count": 3,
     "metadata": {},
     "output_type": "execute_result"
    }
   ],
   "source": [
    "nltk.download('stopwords')\n",
    "nltk.download('wordnet')\n",
    "nltk.download('omw-1.4')"
   ]
  },
  {
   "cell_type": "code",
   "execution_count": 4,
   "id": "1091e898",
   "metadata": {},
   "outputs": [],
   "source": [
    "DF_Final = pd.read_csv('./Downloads/Data_Final')"
   ]
  },
  {
   "cell_type": "code",
   "execution_count": 5,
   "id": "27775c0b",
   "metadata": {},
   "outputs": [],
   "source": [
    "documents = []\n",
    "X = DF_Final.Review\n",
    "stemmer = WordNetLemmatizer()\n",
    "for i in range(0, len(X)):\n",
    "    # Remove all the special characters, like parathesis\n",
    "    document = re.sub(r'\\W', ' ', str(X[i]))\n",
    "    # remove all single characters: like a, b, c, d\n",
    "    document = re.sub(r'\\s+[a-zA-Z]\\s+', ' ', document)\n",
    "    # Remove single characters from the start\n",
    "    document = re.sub(r'\\^[a-zA-Z]\\s+', ' ', document)\n",
    "    # Substituting multiple spaces with single space\n",
    "    document = re.sub(r'\\s+', ' ', document, flags=re.I)\n",
    "    # Removing prefixed 'b'\n",
    "    document = re.sub(r'^b\\s+', '', document)\n",
    "    # Converting to Lowercase\n",
    "    document = document.lower()\n",
    "    # Lemmatization\n",
    "    document = document.split()\n",
    "    document = [stemmer.lemmatize(word) for word in document]\n",
    "    document = ' '.join(document)\n",
    "    documents.append(document)"
   ]
  },
  {
   "cell_type": "code",
   "execution_count": 6,
   "id": "b710a7ef",
   "metadata": {},
   "outputs": [],
   "source": [
    "vectorizer = CountVectorizer(max_features=1500, min_df=0.1, max_df=0.7, \n",
    "stop_words=stopwords.words('english'))\n",
    "X = vectorizer.fit_transform(documents).toarray()"
   ]
  },
  {
   "cell_type": "code",
   "execution_count": 7,
   "id": "4c8904c2",
   "metadata": {},
   "outputs": [],
   "source": [
    "f_n = open(\"./Downloads/negative-words.txt\", \"r\")\n",
    "Negative_words = f_n.readlines()\n",
    "f_p = open(\"./Downloads/positive-words.txt\", \"r\")\n",
    "Positive_words = f_p.readlines()\n",
    "Voca = [i.rstrip('\\n') for i in Positive_words] + [i.rstrip('\\n') for i in \n",
    "Negative_words]\n",
    "vectorizer = CountVectorizer(vocabulary=np.unique(Voca))\n",
    "X = vectorizer.fit_transform(documents).toarray()"
   ]
  },
  {
   "cell_type": "code",
   "execution_count": 8,
   "id": "fe9e3ad5",
   "metadata": {},
   "outputs": [
    {
     "data": {
      "text/html": [
       "<div>\n",
       "<style scoped>\n",
       "    .dataframe tbody tr th:only-of-type {\n",
       "        vertical-align: middle;\n",
       "    }\n",
       "\n",
       "    .dataframe tbody tr th {\n",
       "        vertical-align: top;\n",
       "    }\n",
       "\n",
       "    .dataframe thead th {\n",
       "        text-align: right;\n",
       "    }\n",
       "</style>\n",
       "<table border=\"1\" class=\"dataframe\">\n",
       "  <thead>\n",
       "    <tr style=\"text-align: right;\">\n",
       "      <th></th>\n",
       "      <th>Unnamed: 0</th>\n",
       "      <th>User_id</th>\n",
       "      <th>Bus_id</th>\n",
       "      <th>Star</th>\n",
       "      <th>Useful</th>\n",
       "      <th>Cool</th>\n",
       "      <th>Funny</th>\n",
       "      <th>Review</th>\n",
       "      <th>State</th>\n",
       "      <th>City</th>\n",
       "      <th>Bus_Ave_Star</th>\n",
       "      <th>User_Review_count</th>\n",
       "      <th>User_Useful_count</th>\n",
       "      <th>User_Funny_count</th>\n",
       "      <th>User_Cool_count</th>\n",
       "      <th>Elite</th>\n",
       "      <th>User_Fans</th>\n",
       "      <th>Users_Ave_Star</th>\n",
       "    </tr>\n",
       "  </thead>\n",
       "  <tbody>\n",
       "    <tr>\n",
       "      <th>0</th>\n",
       "      <td>0</td>\n",
       "      <td>4hBhtCSgoxkrFgHa4YAD-w</td>\n",
       "      <td>bbEXAEFr4RYHLlZ-HFssTA</td>\n",
       "      <td>5.0</td>\n",
       "      <td>0</td>\n",
       "      <td>0</td>\n",
       "      <td>0</td>\n",
       "      <td>Great burgers,fries and salad!  Burgers have a...</td>\n",
       "      <td>CA</td>\n",
       "      <td>Goleta</td>\n",
       "      <td>4.0</td>\n",
       "      <td>922</td>\n",
       "      <td>1687</td>\n",
       "      <td>694</td>\n",
       "      <td>1070</td>\n",
       "      <td>2015,2016,2017,2018,2019,20,20,2021</td>\n",
       "      <td>51</td>\n",
       "      <td>4.20</td>\n",
       "    </tr>\n",
       "    <tr>\n",
       "      <th>1</th>\n",
       "      <td>1</td>\n",
       "      <td>JYYYKt6TdVA4ng9lLcXt_g</td>\n",
       "      <td>SZU9c8V2GuREDN5KgyHFJw</td>\n",
       "      <td>5.0</td>\n",
       "      <td>0</td>\n",
       "      <td>0</td>\n",
       "      <td>0</td>\n",
       "      <td>We were a bit weary about trying the Shellfish...</td>\n",
       "      <td>CA</td>\n",
       "      <td>Santa Barbara</td>\n",
       "      <td>4.0</td>\n",
       "      <td>338</td>\n",
       "      <td>800</td>\n",
       "      <td>144</td>\n",
       "      <td>353</td>\n",
       "      <td>2012,2013,2014,2015,2016,2017,2018,2019,20,20,...</td>\n",
       "      <td>30</td>\n",
       "      <td>4.12</td>\n",
       "    </tr>\n",
       "    <tr>\n",
       "      <th>2</th>\n",
       "      <td>2</td>\n",
       "      <td>Uk3X2AypU8AqvcYEVf7s6Q</td>\n",
       "      <td>eL4lyE7LNoXEMvpcJ8WNVw</td>\n",
       "      <td>3.0</td>\n",
       "      <td>5</td>\n",
       "      <td>0</td>\n",
       "      <td>0</td>\n",
       "      <td>This was a tough one!   On the merits of the w...</td>\n",
       "      <td>CA</td>\n",
       "      <td>Santa Barbara</td>\n",
       "      <td>4.0</td>\n",
       "      <td>431</td>\n",
       "      <td>2126</td>\n",
       "      <td>1245</td>\n",
       "      <td>1476</td>\n",
       "      <td>2012,2013,2014,2015,2016,2017,2018,2019,20,20,...</td>\n",
       "      <td>76</td>\n",
       "      <td>4.05</td>\n",
       "    </tr>\n",
       "    <tr>\n",
       "      <th>3</th>\n",
       "      <td>3</td>\n",
       "      <td>LcqNuhqaYt5ekKzaRirmIg</td>\n",
       "      <td>SZU9c8V2GuREDN5KgyHFJw</td>\n",
       "      <td>5.0</td>\n",
       "      <td>2</td>\n",
       "      <td>1</td>\n",
       "      <td>0</td>\n",
       "      <td>I love trying fresh seafood on piers, wharfs a...</td>\n",
       "      <td>CA</td>\n",
       "      <td>Santa Barbara</td>\n",
       "      <td>4.0</td>\n",
       "      <td>258</td>\n",
       "      <td>452</td>\n",
       "      <td>125</td>\n",
       "      <td>183</td>\n",
       "      <td>2015,2016,2017</td>\n",
       "      <td>37</td>\n",
       "      <td>3.99</td>\n",
       "    </tr>\n",
       "    <tr>\n",
       "      <th>4</th>\n",
       "      <td>4</td>\n",
       "      <td>gasLVm0KRwrVhPGRcqATjw</td>\n",
       "      <td>CHh0ZFrQcsk4boOItr2Zuw</td>\n",
       "      <td>4.0</td>\n",
       "      <td>1</td>\n",
       "      <td>2</td>\n",
       "      <td>0</td>\n",
       "      <td>I stopped in because I was hungry for some sna...</td>\n",
       "      <td>CA</td>\n",
       "      <td>Carpinteria</td>\n",
       "      <td>3.0</td>\n",
       "      <td>1638</td>\n",
       "      <td>2658</td>\n",
       "      <td>933</td>\n",
       "      <td>2297</td>\n",
       "      <td>2014,2015,2016,2017,2018,2019,20,20,2021</td>\n",
       "      <td>105</td>\n",
       "      <td>3.79</td>\n",
       "    </tr>\n",
       "  </tbody>\n",
       "</table>\n",
       "</div>"
      ],
      "text/plain": [
       "   Unnamed: 0                 User_id                  Bus_id  Star  Useful  \\\n",
       "0           0  4hBhtCSgoxkrFgHa4YAD-w  bbEXAEFr4RYHLlZ-HFssTA   5.0       0   \n",
       "1           1  JYYYKt6TdVA4ng9lLcXt_g  SZU9c8V2GuREDN5KgyHFJw   5.0       0   \n",
       "2           2  Uk3X2AypU8AqvcYEVf7s6Q  eL4lyE7LNoXEMvpcJ8WNVw   3.0       5   \n",
       "3           3  LcqNuhqaYt5ekKzaRirmIg  SZU9c8V2GuREDN5KgyHFJw   5.0       2   \n",
       "4           4  gasLVm0KRwrVhPGRcqATjw  CHh0ZFrQcsk4boOItr2Zuw   4.0       1   \n",
       "\n",
       "   Cool  Funny                                             Review State  \\\n",
       "0     0      0  Great burgers,fries and salad!  Burgers have a...    CA   \n",
       "1     0      0  We were a bit weary about trying the Shellfish...    CA   \n",
       "2     0      0  This was a tough one!   On the merits of the w...    CA   \n",
       "3     1      0  I love trying fresh seafood on piers, wharfs a...    CA   \n",
       "4     2      0  I stopped in because I was hungry for some sna...    CA   \n",
       "\n",
       "            City  Bus_Ave_Star  User_Review_count  User_Useful_count  \\\n",
       "0         Goleta           4.0                922               1687   \n",
       "1  Santa Barbara           4.0                338                800   \n",
       "2  Santa Barbara           4.0                431               2126   \n",
       "3  Santa Barbara           4.0                258                452   \n",
       "4    Carpinteria           3.0               1638               2658   \n",
       "\n",
       "   User_Funny_count  User_Cool_count  \\\n",
       "0               694             1070   \n",
       "1               144              353   \n",
       "2              1245             1476   \n",
       "3               125              183   \n",
       "4               933             2297   \n",
       "\n",
       "                                               Elite  User_Fans  \\\n",
       "0                2015,2016,2017,2018,2019,20,20,2021         51   \n",
       "1  2012,2013,2014,2015,2016,2017,2018,2019,20,20,...         30   \n",
       "2  2012,2013,2014,2015,2016,2017,2018,2019,20,20,...         76   \n",
       "3                                     2015,2016,2017         37   \n",
       "4           2014,2015,2016,2017,2018,2019,20,20,2021        105   \n",
       "\n",
       "   Users_Ave_Star  \n",
       "0            4.20  \n",
       "1            4.12  \n",
       "2            4.05  \n",
       "3            3.99  \n",
       "4            3.79  "
      ]
     },
     "execution_count": 8,
     "metadata": {},
     "output_type": "execute_result"
    }
   ],
   "source": [
    "DF_Final.head()"
   ]
  },
  {
   "cell_type": "code",
   "execution_count": 9,
   "id": "233a4e8c",
   "metadata": {},
   "outputs": [],
   "source": [
    "# Change classification problem from predicting 5 classes to predicting Good (Stars > 3) and Bad (Stars <= 3) ratings\n",
    "DF_Final['Star'] = (DF_Final['Star']>3).astype(int)"
   ]
  },
  {
   "cell_type": "code",
   "execution_count": 10,
   "id": "d9994d79",
   "metadata": {},
   "outputs": [
    {
     "data": {
      "text/html": [
       "<div>\n",
       "<style scoped>\n",
       "    .dataframe tbody tr th:only-of-type {\n",
       "        vertical-align: middle;\n",
       "    }\n",
       "\n",
       "    .dataframe tbody tr th {\n",
       "        vertical-align: top;\n",
       "    }\n",
       "\n",
       "    .dataframe thead th {\n",
       "        text-align: right;\n",
       "    }\n",
       "</style>\n",
       "<table border=\"1\" class=\"dataframe\">\n",
       "  <thead>\n",
       "    <tr style=\"text-align: right;\">\n",
       "      <th></th>\n",
       "      <th>Unnamed: 0</th>\n",
       "      <th>User_id</th>\n",
       "      <th>Bus_id</th>\n",
       "      <th>Star</th>\n",
       "      <th>Useful</th>\n",
       "      <th>Cool</th>\n",
       "      <th>Funny</th>\n",
       "      <th>Review</th>\n",
       "      <th>State</th>\n",
       "      <th>City</th>\n",
       "      <th>Bus_Ave_Star</th>\n",
       "      <th>User_Review_count</th>\n",
       "      <th>User_Useful_count</th>\n",
       "      <th>User_Funny_count</th>\n",
       "      <th>User_Cool_count</th>\n",
       "      <th>Elite</th>\n",
       "      <th>User_Fans</th>\n",
       "      <th>Users_Ave_Star</th>\n",
       "    </tr>\n",
       "  </thead>\n",
       "  <tbody>\n",
       "    <tr>\n",
       "      <th>0</th>\n",
       "      <td>0</td>\n",
       "      <td>4hBhtCSgoxkrFgHa4YAD-w</td>\n",
       "      <td>bbEXAEFr4RYHLlZ-HFssTA</td>\n",
       "      <td>1</td>\n",
       "      <td>0</td>\n",
       "      <td>0</td>\n",
       "      <td>0</td>\n",
       "      <td>Great burgers,fries and salad!  Burgers have a...</td>\n",
       "      <td>CA</td>\n",
       "      <td>Goleta</td>\n",
       "      <td>4.0</td>\n",
       "      <td>922</td>\n",
       "      <td>1687</td>\n",
       "      <td>694</td>\n",
       "      <td>1070</td>\n",
       "      <td>2015,2016,2017,2018,2019,20,20,2021</td>\n",
       "      <td>51</td>\n",
       "      <td>4.20</td>\n",
       "    </tr>\n",
       "    <tr>\n",
       "      <th>1</th>\n",
       "      <td>1</td>\n",
       "      <td>JYYYKt6TdVA4ng9lLcXt_g</td>\n",
       "      <td>SZU9c8V2GuREDN5KgyHFJw</td>\n",
       "      <td>1</td>\n",
       "      <td>0</td>\n",
       "      <td>0</td>\n",
       "      <td>0</td>\n",
       "      <td>We were a bit weary about trying the Shellfish...</td>\n",
       "      <td>CA</td>\n",
       "      <td>Santa Barbara</td>\n",
       "      <td>4.0</td>\n",
       "      <td>338</td>\n",
       "      <td>800</td>\n",
       "      <td>144</td>\n",
       "      <td>353</td>\n",
       "      <td>2012,2013,2014,2015,2016,2017,2018,2019,20,20,...</td>\n",
       "      <td>30</td>\n",
       "      <td>4.12</td>\n",
       "    </tr>\n",
       "    <tr>\n",
       "      <th>2</th>\n",
       "      <td>2</td>\n",
       "      <td>Uk3X2AypU8AqvcYEVf7s6Q</td>\n",
       "      <td>eL4lyE7LNoXEMvpcJ8WNVw</td>\n",
       "      <td>0</td>\n",
       "      <td>5</td>\n",
       "      <td>0</td>\n",
       "      <td>0</td>\n",
       "      <td>This was a tough one!   On the merits of the w...</td>\n",
       "      <td>CA</td>\n",
       "      <td>Santa Barbara</td>\n",
       "      <td>4.0</td>\n",
       "      <td>431</td>\n",
       "      <td>2126</td>\n",
       "      <td>1245</td>\n",
       "      <td>1476</td>\n",
       "      <td>2012,2013,2014,2015,2016,2017,2018,2019,20,20,...</td>\n",
       "      <td>76</td>\n",
       "      <td>4.05</td>\n",
       "    </tr>\n",
       "    <tr>\n",
       "      <th>3</th>\n",
       "      <td>3</td>\n",
       "      <td>LcqNuhqaYt5ekKzaRirmIg</td>\n",
       "      <td>SZU9c8V2GuREDN5KgyHFJw</td>\n",
       "      <td>1</td>\n",
       "      <td>2</td>\n",
       "      <td>1</td>\n",
       "      <td>0</td>\n",
       "      <td>I love trying fresh seafood on piers, wharfs a...</td>\n",
       "      <td>CA</td>\n",
       "      <td>Santa Barbara</td>\n",
       "      <td>4.0</td>\n",
       "      <td>258</td>\n",
       "      <td>452</td>\n",
       "      <td>125</td>\n",
       "      <td>183</td>\n",
       "      <td>2015,2016,2017</td>\n",
       "      <td>37</td>\n",
       "      <td>3.99</td>\n",
       "    </tr>\n",
       "    <tr>\n",
       "      <th>4</th>\n",
       "      <td>4</td>\n",
       "      <td>gasLVm0KRwrVhPGRcqATjw</td>\n",
       "      <td>CHh0ZFrQcsk4boOItr2Zuw</td>\n",
       "      <td>1</td>\n",
       "      <td>1</td>\n",
       "      <td>2</td>\n",
       "      <td>0</td>\n",
       "      <td>I stopped in because I was hungry for some sna...</td>\n",
       "      <td>CA</td>\n",
       "      <td>Carpinteria</td>\n",
       "      <td>3.0</td>\n",
       "      <td>1638</td>\n",
       "      <td>2658</td>\n",
       "      <td>933</td>\n",
       "      <td>2297</td>\n",
       "      <td>2014,2015,2016,2017,2018,2019,20,20,2021</td>\n",
       "      <td>105</td>\n",
       "      <td>3.79</td>\n",
       "    </tr>\n",
       "  </tbody>\n",
       "</table>\n",
       "</div>"
      ],
      "text/plain": [
       "   Unnamed: 0                 User_id                  Bus_id  Star  Useful  \\\n",
       "0           0  4hBhtCSgoxkrFgHa4YAD-w  bbEXAEFr4RYHLlZ-HFssTA     1       0   \n",
       "1           1  JYYYKt6TdVA4ng9lLcXt_g  SZU9c8V2GuREDN5KgyHFJw     1       0   \n",
       "2           2  Uk3X2AypU8AqvcYEVf7s6Q  eL4lyE7LNoXEMvpcJ8WNVw     0       5   \n",
       "3           3  LcqNuhqaYt5ekKzaRirmIg  SZU9c8V2GuREDN5KgyHFJw     1       2   \n",
       "4           4  gasLVm0KRwrVhPGRcqATjw  CHh0ZFrQcsk4boOItr2Zuw     1       1   \n",
       "\n",
       "   Cool  Funny                                             Review State  \\\n",
       "0     0      0  Great burgers,fries and salad!  Burgers have a...    CA   \n",
       "1     0      0  We were a bit weary about trying the Shellfish...    CA   \n",
       "2     0      0  This was a tough one!   On the merits of the w...    CA   \n",
       "3     1      0  I love trying fresh seafood on piers, wharfs a...    CA   \n",
       "4     2      0  I stopped in because I was hungry for some sna...    CA   \n",
       "\n",
       "            City  Bus_Ave_Star  User_Review_count  User_Useful_count  \\\n",
       "0         Goleta           4.0                922               1687   \n",
       "1  Santa Barbara           4.0                338                800   \n",
       "2  Santa Barbara           4.0                431               2126   \n",
       "3  Santa Barbara           4.0                258                452   \n",
       "4    Carpinteria           3.0               1638               2658   \n",
       "\n",
       "   User_Funny_count  User_Cool_count  \\\n",
       "0               694             1070   \n",
       "1               144              353   \n",
       "2              1245             1476   \n",
       "3               125              183   \n",
       "4               933             2297   \n",
       "\n",
       "                                               Elite  User_Fans  \\\n",
       "0                2015,2016,2017,2018,2019,20,20,2021         51   \n",
       "1  2012,2013,2014,2015,2016,2017,2018,2019,20,20,...         30   \n",
       "2  2012,2013,2014,2015,2016,2017,2018,2019,20,20,...         76   \n",
       "3                                     2015,2016,2017         37   \n",
       "4           2014,2015,2016,2017,2018,2019,20,20,2021        105   \n",
       "\n",
       "   Users_Ave_Star  \n",
       "0            4.20  \n",
       "1            4.12  \n",
       "2            4.05  \n",
       "3            3.99  \n",
       "4            3.79  "
      ]
     },
     "execution_count": 10,
     "metadata": {},
     "output_type": "execute_result"
    }
   ],
   "source": [
    "# Check to see if changes applied correctly\n",
    "DF_Final.head(5)"
   ]
  },
  {
   "cell_type": "markdown",
   "id": "6b2dddb0",
   "metadata": {},
   "source": [
    "# **Train a Naive Bayes Classifier**"
   ]
  },
  {
   "cell_type": "code",
   "execution_count": 11,
   "id": "2a7dba06",
   "metadata": {},
   "outputs": [
    {
     "name": "stdout",
     "output_type": "stream",
     "text": [
      "(43076, 6786)\n",
      "(10769, 6786)\n",
      "(43076,)\n",
      "(10769,)\n"
     ]
    }
   ],
   "source": [
    "#80-20 split of train test split\n",
    "Y = DF_Final['Star'] # Variable we are predicting\n",
    "X_train, X_test, Y_train, Y_test = train_test_split(X, Y, train_size=0.8)\n",
    "\n",
    "# Check dimensions\n",
    "print(X_train.shape)\n",
    "print(X_test.shape)\n",
    "print(Y_train.shape)\n",
    "print(Y_test.shape)\n"
   ]
  },
  {
   "cell_type": "code",
   "execution_count": 12,
   "id": "77b9e3b8",
   "metadata": {},
   "outputs": [
    {
     "data": {
      "text/html": [
       "<style>#sk-container-id-1 {color: black;background-color: white;}#sk-container-id-1 pre{padding: 0;}#sk-container-id-1 div.sk-toggleable {background-color: white;}#sk-container-id-1 label.sk-toggleable__label {cursor: pointer;display: block;width: 100%;margin-bottom: 0;padding: 0.3em;box-sizing: border-box;text-align: center;}#sk-container-id-1 label.sk-toggleable__label-arrow:before {content: \"▸\";float: left;margin-right: 0.25em;color: #696969;}#sk-container-id-1 label.sk-toggleable__label-arrow:hover:before {color: black;}#sk-container-id-1 div.sk-estimator:hover label.sk-toggleable__label-arrow:before {color: black;}#sk-container-id-1 div.sk-toggleable__content {max-height: 0;max-width: 0;overflow: hidden;text-align: left;background-color: #f0f8ff;}#sk-container-id-1 div.sk-toggleable__content pre {margin: 0.2em;color: black;border-radius: 0.25em;background-color: #f0f8ff;}#sk-container-id-1 input.sk-toggleable__control:checked~div.sk-toggleable__content {max-height: 200px;max-width: 100%;overflow: auto;}#sk-container-id-1 input.sk-toggleable__control:checked~label.sk-toggleable__label-arrow:before {content: \"▾\";}#sk-container-id-1 div.sk-estimator input.sk-toggleable__control:checked~label.sk-toggleable__label {background-color: #d4ebff;}#sk-container-id-1 div.sk-label input.sk-toggleable__control:checked~label.sk-toggleable__label {background-color: #d4ebff;}#sk-container-id-1 input.sk-hidden--visually {border: 0;clip: rect(1px 1px 1px 1px);clip: rect(1px, 1px, 1px, 1px);height: 1px;margin: -1px;overflow: hidden;padding: 0;position: absolute;width: 1px;}#sk-container-id-1 div.sk-estimator {font-family: monospace;background-color: #f0f8ff;border: 1px dotted black;border-radius: 0.25em;box-sizing: border-box;margin-bottom: 0.5em;}#sk-container-id-1 div.sk-estimator:hover {background-color: #d4ebff;}#sk-container-id-1 div.sk-parallel-item::after {content: \"\";width: 100%;border-bottom: 1px solid gray;flex-grow: 1;}#sk-container-id-1 div.sk-label:hover label.sk-toggleable__label {background-color: #d4ebff;}#sk-container-id-1 div.sk-serial::before {content: \"\";position: absolute;border-left: 1px solid gray;box-sizing: border-box;top: 0;bottom: 0;left: 50%;z-index: 0;}#sk-container-id-1 div.sk-serial {display: flex;flex-direction: column;align-items: center;background-color: white;padding-right: 0.2em;padding-left: 0.2em;position: relative;}#sk-container-id-1 div.sk-item {position: relative;z-index: 1;}#sk-container-id-1 div.sk-parallel {display: flex;align-items: stretch;justify-content: center;background-color: white;position: relative;}#sk-container-id-1 div.sk-item::before, #sk-container-id-1 div.sk-parallel-item::before {content: \"\";position: absolute;border-left: 1px solid gray;box-sizing: border-box;top: 0;bottom: 0;left: 50%;z-index: -1;}#sk-container-id-1 div.sk-parallel-item {display: flex;flex-direction: column;z-index: 1;position: relative;background-color: white;}#sk-container-id-1 div.sk-parallel-item:first-child::after {align-self: flex-end;width: 50%;}#sk-container-id-1 div.sk-parallel-item:last-child::after {align-self: flex-start;width: 50%;}#sk-container-id-1 div.sk-parallel-item:only-child::after {width: 0;}#sk-container-id-1 div.sk-dashed-wrapped {border: 1px dashed gray;margin: 0 0.4em 0.5em 0.4em;box-sizing: border-box;padding-bottom: 0.4em;background-color: white;}#sk-container-id-1 div.sk-label label {font-family: monospace;font-weight: bold;display: inline-block;line-height: 1.2em;}#sk-container-id-1 div.sk-label-container {text-align: center;}#sk-container-id-1 div.sk-container {/* jupyter's `normalize.less` sets `[hidden] { display: none; }` but bootstrap.min.css set `[hidden] { display: none !important; }` so we also need the `!important` here to be able to override the default hidden behavior on the sphinx rendered scikit-learn.org. See: https://github.com/scikit-learn/scikit-learn/issues/21755 */display: inline-block !important;position: relative;}#sk-container-id-1 div.sk-text-repr-fallback {display: none;}</style><div id=\"sk-container-id-1\" class=\"sk-top-container\"><div class=\"sk-text-repr-fallback\"><pre>MultinomialNB()</pre><b>In a Jupyter environment, please rerun this cell to show the HTML representation or trust the notebook. <br />On GitHub, the HTML representation is unable to render, please try loading this page with nbviewer.org.</b></div><div class=\"sk-container\" hidden><div class=\"sk-item\"><div class=\"sk-estimator sk-toggleable\"><input class=\"sk-toggleable__control sk-hidden--visually\" id=\"sk-estimator-id-1\" type=\"checkbox\" checked><label for=\"sk-estimator-id-1\" class=\"sk-toggleable__label sk-toggleable__label-arrow\">MultinomialNB</label><div class=\"sk-toggleable__content\"><pre>MultinomialNB()</pre></div></div></div></div></div>"
      ],
      "text/plain": [
       "MultinomialNB()"
      ]
     },
     "execution_count": 12,
     "metadata": {},
     "output_type": "execute_result"
    }
   ],
   "source": [
    "# Multinomial Naive Bayes Classifier\n",
    "classifier = MultinomialNB()\n",
    "classifier.fit(X_train, Y_train)"
   ]
  },
  {
   "cell_type": "code",
   "execution_count": 13,
   "id": "b0e2b29f",
   "metadata": {},
   "outputs": [],
   "source": [
    "preds = classifier.predict(X_test)"
   ]
  },
  {
   "cell_type": "code",
   "execution_count": 14,
   "id": "34c3d0e1",
   "metadata": {},
   "outputs": [
    {
     "data": {
      "text/plain": [
       "<Figure size 432x288 with 0 Axes>"
      ]
     },
     "metadata": {},
     "output_type": "display_data"
    },
    {
     "data": {
      "image/png": "[encoded data removed]",
      "text/plain": [
       "<Figure size 864x576 with 1 Axes>"
      ]
     },
     "metadata": {
      "needs_background": "light"
     },
     "output_type": "display_data"
    },
    {
     "name": "stdout",
     "output_type": "stream",
     "text": [
      "\n",
      "\n",
      "              precision    recall  f1-score   support\n",
      "\n",
      "           0       0.71      0.58      0.64      2792\n",
      "           1       0.86      0.92      0.89      7977\n",
      "\n",
      "    accuracy                           0.83     10769\n",
      "   macro avg       0.79      0.75      0.76     10769\n",
      "weighted avg       0.82      0.83      0.82     10769\n",
      "\n"
     ]
    }
   ],
   "source": [
    "### With no coefficients\n",
    "cm = confusion_matrix(Y_test, preds)\n",
    "plt.figure()\n",
    "plot_confusion_matrix(cm, figsize=(12,8), hide_ticks=True, cmap=plt.cm.Blues)\n",
    "plt.title(\"Multinomial Naive Bayes - Confusion Matrix\")\n",
    "plt.xticks(range(2), [\"Positive Review\",\"Negative Review\"], fontsize=16)\n",
    "plt.yticks(range(2), [\"Positive Review\",\"Negative Review\"], fontsize=16)\n",
    "plt.show()\n",
    "print('\\n')\n",
    "print(classification_report(Y_test, preds))"
   ]
  },
  {
   "cell_type": "code",
   "execution_count": 15,
   "id": "efe62695",
   "metadata": {},
   "outputs": [],
   "source": [
    "# We may want to scale our feature vectors by a weighted average of the restuarant's and user's average stars\n",
    "Users_Avg_Star = DF_Final['Users_Ave_Star']\n",
    "Bus_Avg_Star = DF_Final['Bus_Ave_Star']\n",
    "scaler1 = Users_Avg_Star / 5\n",
    "scaler2 = Bus_Avg_Star / 5\n",
    "scaled_X = []\n",
    "for i in range(len(X)):\n",
    "    scaled_X.append(X[i] * ((scaler1[i] + scaler2[i]) / 2)) "
   ]
  },
  {
   "cell_type": "code",
   "execution_count": 16,
   "id": "9eddaf4f",
   "metadata": {},
   "outputs": [],
   "source": [
    "X_train, X_test, Y_train, Y_test = train_test_split(scaled_X, Y, train_size=0.8)"
   ]
  },
  {
   "cell_type": "code",
   "execution_count": 17,
   "id": "f773ffdf",
   "metadata": {},
   "outputs": [
    {
     "data": {
      "text/html": [
       "<style>#sk-container-id-2 {color: black;background-color: white;}#sk-container-id-2 pre{padding: 0;}#sk-container-id-2 div.sk-toggleable {background-color: white;}#sk-container-id-2 label.sk-toggleable__label {cursor: pointer;display: block;width: 100%;margin-bottom: 0;padding: 0.3em;box-sizing: border-box;text-align: center;}#sk-container-id-2 label.sk-toggleable__label-arrow:before {content: \"▸\";float: left;margin-right: 0.25em;color: #696969;}#sk-container-id-2 label.sk-toggleable__label-arrow:hover:before {color: black;}#sk-container-id-2 div.sk-estimator:hover label.sk-toggleable__label-arrow:before {color: black;}#sk-container-id-2 div.sk-toggleable__content {max-height: 0;max-width: 0;overflow: hidden;text-align: left;background-color: #f0f8ff;}#sk-container-id-2 div.sk-toggleable__content pre {margin: 0.2em;color: black;border-radius: 0.25em;background-color: #f0f8ff;}#sk-container-id-2 input.sk-toggleable__control:checked~div.sk-toggleable__content {max-height: 200px;max-width: 100%;overflow: auto;}#sk-container-id-2 input.sk-toggleable__control:checked~label.sk-toggleable__label-arrow:before {content: \"▾\";}#sk-container-id-2 div.sk-estimator input.sk-toggleable__control:checked~label.sk-toggleable__label {background-color: #d4ebff;}#sk-container-id-2 div.sk-label input.sk-toggleable__control:checked~label.sk-toggleable__label {background-color: #d4ebff;}#sk-container-id-2 input.sk-hidden--visually {border: 0;clip: rect(1px 1px 1px 1px);clip: rect(1px, 1px, 1px, 1px);height: 1px;margin: -1px;overflow: hidden;padding: 0;position: absolute;width: 1px;}#sk-container-id-2 div.sk-estimator {font-family: monospace;background-color: #f0f8ff;border: 1px dotted black;border-radius: 0.25em;box-sizing: border-box;margin-bottom: 0.5em;}#sk-container-id-2 div.sk-estimator:hover {background-color: #d4ebff;}#sk-container-id-2 div.sk-parallel-item::after {content: \"\";width: 100%;border-bottom: 1px solid gray;flex-grow: 1;}#sk-container-id-2 div.sk-label:hover label.sk-toggleable__label {background-color: #d4ebff;}#sk-container-id-2 div.sk-serial::before {content: \"\";position: absolute;border-left: 1px solid gray;box-sizing: border-box;top: 0;bottom: 0;left: 50%;z-index: 0;}#sk-container-id-2 div.sk-serial {display: flex;flex-direction: column;align-items: center;background-color: white;padding-right: 0.2em;padding-left: 0.2em;position: relative;}#sk-container-id-2 div.sk-item {position: relative;z-index: 1;}#sk-container-id-2 div.sk-parallel {display: flex;align-items: stretch;justify-content: center;background-color: white;position: relative;}#sk-container-id-2 div.sk-item::before, #sk-container-id-2 div.sk-parallel-item::before {content: \"\";position: absolute;border-left: 1px solid gray;box-sizing: border-box;top: 0;bottom: 0;left: 50%;z-index: -1;}#sk-container-id-2 div.sk-parallel-item {display: flex;flex-direction: column;z-index: 1;position: relative;background-color: white;}#sk-container-id-2 div.sk-parallel-item:first-child::after {align-self: flex-end;width: 50%;}#sk-container-id-2 div.sk-parallel-item:last-child::after {align-self: flex-start;width: 50%;}#sk-container-id-2 div.sk-parallel-item:only-child::after {width: 0;}#sk-container-id-2 div.sk-dashed-wrapped {border: 1px dashed gray;margin: 0 0.4em 0.5em 0.4em;box-sizing: border-box;padding-bottom: 0.4em;background-color: white;}#sk-container-id-2 div.sk-label label {font-family: monospace;font-weight: bold;display: inline-block;line-height: 1.2em;}#sk-container-id-2 div.sk-label-container {text-align: center;}#sk-container-id-2 div.sk-container {/* jupyter's `normalize.less` sets `[hidden] { display: none; }` but bootstrap.min.css set `[hidden] { display: none !important; }` so we also need the `!important` here to be able to override the default hidden behavior on the sphinx rendered scikit-learn.org. See: https://github.com/scikit-learn/scikit-learn/issues/21755 */display: inline-block !important;position: relative;}#sk-container-id-2 div.sk-text-repr-fallback {display: none;}</style><div id=\"sk-container-id-2\" class=\"sk-top-container\"><div class=\"sk-text-repr-fallback\"><pre>MultinomialNB()</pre><b>In a Jupyter environment, please rerun this cell to show the HTML representation or trust the notebook. <br />On GitHub, the HTML representation is unable to render, please try loading this page with nbviewer.org.</b></div><div class=\"sk-container\" hidden><div class=\"sk-item\"><div class=\"sk-estimator sk-toggleable\"><input class=\"sk-toggleable__control sk-hidden--visually\" id=\"sk-estimator-id-2\" type=\"checkbox\" checked><label for=\"sk-estimator-id-2\" class=\"sk-toggleable__label sk-toggleable__label-arrow\">MultinomialNB</label><div class=\"sk-toggleable__content\"><pre>MultinomialNB()</pre></div></div></div></div></div>"
      ],
      "text/plain": [
       "MultinomialNB()"
      ]
     },
     "execution_count": 17,
     "metadata": {},
     "output_type": "execute_result"
    }
   ],
   "source": [
    "classifier = MultinomialNB()\n",
    "classifier.fit(X_train, Y_train)"
   ]
  },
  {
   "cell_type": "code",
   "execution_count": 18,
   "id": "4f911cc0",
   "metadata": {},
   "outputs": [],
   "source": [
    "preds = classifier.predict(X_test)"
   ]
  },
  {
   "cell_type": "code",
   "execution_count": 19,
   "id": "6ba8504b",
   "metadata": {},
   "outputs": [
    {
     "data": {
      "text/plain": [
       "<Figure size 432x288 with 0 Axes>"
      ]
     },
     "metadata": {},
     "output_type": "display_data"
    },
    {
     "data": {
      "image/png": "[encoded data removed]",
      "text/plain": [
       "<Figure size 864x576 with 1 Axes>"
      ]
     },
     "metadata": {
      "needs_background": "light"
     },
     "output_type": "display_data"
    },
    {
     "name": "stdout",
     "output_type": "stream",
     "text": [
      "\n",
      "\n",
      "              precision    recall  f1-score   support\n",
      "\n",
      "           0       0.74      0.51      0.60      2769\n",
      "           1       0.85      0.94      0.89      8000\n",
      "\n",
      "    accuracy                           0.83     10769\n",
      "   macro avg       0.79      0.72      0.75     10769\n",
      "weighted avg       0.82      0.83      0.82     10769\n",
      "\n"
     ]
    }
   ],
   "source": [
    "### With both coefficients\n",
    "cm = confusion_matrix(Y_test, preds)\n",
    "plt.figure()\n",
    "plot_confusion_matrix(cm, figsize=(12,8), hide_ticks=True, cmap=plt.cm.Blues)\n",
    "plt.title(\"Scaled Multinomial Naive Bayes - Confusion Matrix\")\n",
    "plt.xticks(range(2), [\"Positive Review\",\"Negative Review\"], fontsize=16)\n",
    "plt.yticks(range(2), [\"Positive Review\",\"Negative Review\"], fontsize=16)\n",
    "plt.show()\n",
    "print('\\n')\n",
    "print(classification_report(Y_test, preds))"
   ]
  },
  {
   "cell_type": "markdown",
   "id": "a333a064",
   "metadata": {},
   "source": [
    "# Logistic Regression"
   ]
  },
  {
   "cell_type": "code",
   "execution_count": 20,
   "id": "7fd1ed3b",
   "metadata": {},
   "outputs": [],
   "source": [
    "logisticRegr = LogisticRegression(max_iter=1000)"
   ]
  },
  {
   "cell_type": "code",
   "execution_count": 21,
   "id": "6817aff3",
   "metadata": {},
   "outputs": [],
   "source": [
    "# Use the unscaled X as it perfromed better\n",
    "X_train, X_test, Y_train, Y_test = train_test_split(X, Y, train_size=0.8)"
   ]
  },
  {
   "cell_type": "code",
   "execution_count": 22,
   "id": "0d05b939",
   "metadata": {},
   "outputs": [
    {
     "data": {
      "text/html": [
       "<style>#sk-container-id-3 {color: black;background-color: white;}#sk-container-id-3 pre{padding: 0;}#sk-container-id-3 div.sk-toggleable {background-color: white;}#sk-container-id-3 label.sk-toggleable__label {cursor: pointer;display: block;width: 100%;margin-bottom: 0;padding: 0.3em;box-sizing: border-box;text-align: center;}#sk-container-id-3 label.sk-toggleable__label-arrow:before {content: \"▸\";float: left;margin-right: 0.25em;color: #696969;}#sk-container-id-3 label.sk-toggleable__label-arrow:hover:before {color: black;}#sk-container-id-3 div.sk-estimator:hover label.sk-toggleable__label-arrow:before {color: black;}#sk-container-id-3 div.sk-toggleable__content {max-height: 0;max-width: 0;overflow: hidden;text-align: left;background-color: #f0f8ff;}#sk-container-id-3 div.sk-toggleable__content pre {margin: 0.2em;color: black;border-radius: 0.25em;background-color: #f0f8ff;}#sk-container-id-3 input.sk-toggleable__control:checked~div.sk-toggleable__content {max-height: 200px;max-width: 100%;overflow: auto;}#sk-container-id-3 input.sk-toggleable__control:checked~label.sk-toggleable__label-arrow:before {content: \"▾\";}#sk-container-id-3 div.sk-estimator input.sk-toggleable__control:checked~label.sk-toggleable__label {background-color: #d4ebff;}#sk-container-id-3 div.sk-label input.sk-toggleable__control:checked~label.sk-toggleable__label {background-color: #d4ebff;}#sk-container-id-3 input.sk-hidden--visually {border: 0;clip: rect(1px 1px 1px 1px);clip: rect(1px, 1px, 1px, 1px);height: 1px;margin: -1px;overflow: hidden;padding: 0;position: absolute;width: 1px;}#sk-container-id-3 div.sk-estimator {font-family: monospace;background-color: #f0f8ff;border: 1px dotted black;border-radius: 0.25em;box-sizing: border-box;margin-bottom: 0.5em;}#sk-container-id-3 div.sk-estimator:hover {background-color: #d4ebff;}#sk-container-id-3 div.sk-parallel-item::after {content: \"\";width: 100%;border-bottom: 1px solid gray;flex-grow: 1;}#sk-container-id-3 div.sk-label:hover label.sk-toggleable__label {background-color: #d4ebff;}#sk-container-id-3 div.sk-serial::before {content: \"\";position: absolute;border-left: 1px solid gray;box-sizing: border-box;top: 0;bottom: 0;left: 50%;z-index: 0;}#sk-container-id-3 div.sk-serial {display: flex;flex-direction: column;align-items: center;background-color: white;padding-right: 0.2em;padding-left: 0.2em;position: relative;}#sk-container-id-3 div.sk-item {position: relative;z-index: 1;}#sk-container-id-3 div.sk-parallel {display: flex;align-items: stretch;justify-content: center;background-color: white;position: relative;}#sk-container-id-3 div.sk-item::before, #sk-container-id-3 div.sk-parallel-item::before {content: \"\";position: absolute;border-left: 1px solid gray;box-sizing: border-box;top: 0;bottom: 0;left: 50%;z-index: -1;}#sk-container-id-3 div.sk-parallel-item {display: flex;flex-direction: column;z-index: 1;position: relative;background-color: white;}#sk-container-id-3 div.sk-parallel-item:first-child::after {align-self: flex-end;width: 50%;}#sk-container-id-3 div.sk-parallel-item:last-child::after {align-self: flex-start;width: 50%;}#sk-container-id-3 div.sk-parallel-item:only-child::after {width: 0;}#sk-container-id-3 div.sk-dashed-wrapped {border: 1px dashed gray;margin: 0 0.4em 0.5em 0.4em;box-sizing: border-box;padding-bottom: 0.4em;background-color: white;}#sk-container-id-3 div.sk-label label {font-family: monospace;font-weight: bold;display: inline-block;line-height: 1.2em;}#sk-container-id-3 div.sk-label-container {text-align: center;}#sk-container-id-3 div.sk-container {/* jupyter's `normalize.less` sets `[hidden] { display: none; }` but bootstrap.min.css set `[hidden] { display: none !important; }` so we also need the `!important` here to be able to override the default hidden behavior on the sphinx rendered scikit-learn.org. See: https://github.com/scikit-learn/scikit-learn/issues/21755 */display: inline-block !important;position: relative;}#sk-container-id-3 div.sk-text-repr-fallback {display: none;}</style><div id=\"sk-container-id-3\" class=\"sk-top-container\"><div class=\"sk-text-repr-fallback\"><pre>LogisticRegression(max_iter=1000)</pre><b>In a Jupyter environment, please rerun this cell to show the HTML representation or trust the notebook. <br />On GitHub, the HTML representation is unable to render, please try loading this page with nbviewer.org.</b></div><div class=\"sk-container\" hidden><div class=\"sk-item\"><div class=\"sk-estimator sk-toggleable\"><input class=\"sk-toggleable__control sk-hidden--visually\" id=\"sk-estimator-id-3\" type=\"checkbox\" checked><label for=\"sk-estimator-id-3\" class=\"sk-toggleable__label sk-toggleable__label-arrow\">LogisticRegression</label><div class=\"sk-toggleable__content\"><pre>LogisticRegression(max_iter=1000)</pre></div></div></div></div></div>"
      ],
      "text/plain": [
       "LogisticRegression(max_iter=1000)"
      ]
     },
     "execution_count": 22,
     "metadata": {},
     "output_type": "execute_result"
    }
   ],
   "source": [
    "logisticRegr.fit(X_train, Y_train)"
   ]
  },
  {
   "cell_type": "code",
   "execution_count": 23,
   "id": "8d25d44c",
   "metadata": {},
   "outputs": [],
   "source": [
    "predictions = logisticRegr.predict(X_test)"
   ]
  },
  {
   "cell_type": "code",
   "execution_count": 24,
   "id": "8ee5b5f1",
   "metadata": {},
   "outputs": [
    {
     "data": {
      "text/plain": [
       "<Figure size 432x288 with 0 Axes>"
      ]
     },
     "metadata": {},
     "output_type": "display_data"
    },
    {
     "data": {
      "image/png": "[encoded data removed]",
      "text/plain": [
       "<Figure size 864x576 with 1 Axes>"
      ]
     },
     "metadata": {
      "needs_background": "light"
     },
     "output_type": "display_data"
    },
    {
     "name": "stdout",
     "output_type": "stream",
     "text": [
      "\n",
      "\n",
      "              precision    recall  f1-score   support\n",
      "\n",
      "           0       0.76      0.51      0.61      2748\n",
      "           1       0.85      0.94      0.89      8021\n",
      "\n",
      "    accuracy                           0.83     10769\n",
      "   macro avg       0.80      0.73      0.75     10769\n",
      "weighted avg       0.83      0.83      0.82     10769\n",
      "\n"
     ]
    }
   ],
   "source": [
    "cm = confusion_matrix(Y_test, predictions)\n",
    "plt.figure()\n",
    "plot_confusion_matrix(cm, figsize=(12,8), hide_ticks=True, cmap=plt.cm.Blues)\n",
    "plt.title(\"Logistic Regression - Confusion Matrix\")\n",
    "plt.xticks(range(2), [\"Positive Review\",\"Negative Review\"], fontsize=16)\n",
    "plt.yticks(range(2), [\"Positive Review\",\"Negative Review\"], fontsize=16)\n",
    "plt.show()\n",
    "print('\\n')\n",
    "print(classification_report(Y_test, predictions))"
   ]
  },
  {
   "cell_type": "code",
   "execution_count": 25,
   "id": "86c68ff1",
   "metadata": {},
   "outputs": [],
   "source": [
    "# Try with scaled coefficients\n",
    "logisticRegr2 = LogisticRegression(max_iter=1000)"
   ]
  },
  {
   "cell_type": "code",
   "execution_count": 26,
   "id": "f25c632a",
   "metadata": {},
   "outputs": [],
   "source": [
    "X_train, X_test, Y_train, Y_test = train_test_split(scaled_X, Y, train_size=0.8)"
   ]
  },
  {
   "cell_type": "code",
   "execution_count": 27,
   "id": "731aafce",
   "metadata": {},
   "outputs": [
    {
     "data": {
      "text/html": [
       "<style>#sk-container-id-4 {color: black;background-color: white;}#sk-container-id-4 pre{padding: 0;}#sk-container-id-4 div.sk-toggleable {background-color: white;}#sk-container-id-4 label.sk-toggleable__label {cursor: pointer;display: block;width: 100%;margin-bottom: 0;padding: 0.3em;box-sizing: border-box;text-align: center;}#sk-container-id-4 label.sk-toggleable__label-arrow:before {content: \"▸\";float: left;margin-right: 0.25em;color: #696969;}#sk-container-id-4 label.sk-toggleable__label-arrow:hover:before {color: black;}#sk-container-id-4 div.sk-estimator:hover label.sk-toggleable__label-arrow:before {color: black;}#sk-container-id-4 div.sk-toggleable__content {max-height: 0;max-width: 0;overflow: hidden;text-align: left;background-color: #f0f8ff;}#sk-container-id-4 div.sk-toggleable__content pre {margin: 0.2em;color: black;border-radius: 0.25em;background-color: #f0f8ff;}#sk-container-id-4 input.sk-toggleable__control:checked~div.sk-toggleable__content {max-height: 200px;max-width: 100%;overflow: auto;}#sk-container-id-4 input.sk-toggleable__control:checked~label.sk-toggleable__label-arrow:before {content: \"▾\";}#sk-container-id-4 div.sk-estimator input.sk-toggleable__control:checked~label.sk-toggleable__label {background-color: #d4ebff;}#sk-container-id-4 div.sk-label input.sk-toggleable__control:checked~label.sk-toggleable__label {background-color: #d4ebff;}#sk-container-id-4 input.sk-hidden--visually {border: 0;clip: rect(1px 1px 1px 1px);clip: rect(1px, 1px, 1px, 1px);height: 1px;margin: -1px;overflow: hidden;padding: 0;position: absolute;width: 1px;}#sk-container-id-4 div.sk-estimator {font-family: monospace;background-color: #f0f8ff;border: 1px dotted black;border-radius: 0.25em;box-sizing: border-box;margin-bottom: 0.5em;}#sk-container-id-4 div.sk-estimator:hover {background-color: #d4ebff;}#sk-container-id-4 div.sk-parallel-item::after {content: \"\";width: 100%;border-bottom: 1px solid gray;flex-grow: 1;}#sk-container-id-4 div.sk-label:hover label.sk-toggleable__label {background-color: #d4ebff;}#sk-container-id-4 div.sk-serial::before {content: \"\";position: absolute;border-left: 1px solid gray;box-sizing: border-box;top: 0;bottom: 0;left: 50%;z-index: 0;}#sk-container-id-4 div.sk-serial {display: flex;flex-direction: column;align-items: center;background-color: white;padding-right: 0.2em;padding-left: 0.2em;position: relative;}#sk-container-id-4 div.sk-item {position: relative;z-index: 1;}#sk-container-id-4 div.sk-parallel {display: flex;align-items: stretch;justify-content: center;background-color: white;position: relative;}#sk-container-id-4 div.sk-item::before, #sk-container-id-4 div.sk-parallel-item::before {content: \"\";position: absolute;border-left: 1px solid gray;box-sizing: border-box;top: 0;bottom: 0;left: 50%;z-index: -1;}#sk-container-id-4 div.sk-parallel-item {display: flex;flex-direction: column;z-index: 1;position: relative;background-color: white;}#sk-container-id-4 div.sk-parallel-item:first-child::after {align-self: flex-end;width: 50%;}#sk-container-id-4 div.sk-parallel-item:last-child::after {align-self: flex-start;width: 50%;}#sk-container-id-4 div.sk-parallel-item:only-child::after {width: 0;}#sk-container-id-4 div.sk-dashed-wrapped {border: 1px dashed gray;margin: 0 0.4em 0.5em 0.4em;box-sizing: border-box;padding-bottom: 0.4em;background-color: white;}#sk-container-id-4 div.sk-label label {font-family: monospace;font-weight: bold;display: inline-block;line-height: 1.2em;}#sk-container-id-4 div.sk-label-container {text-align: center;}#sk-container-id-4 div.sk-container {/* jupyter's `normalize.less` sets `[hidden] { display: none; }` but bootstrap.min.css set `[hidden] { display: none !important; }` so we also need the `!important` here to be able to override the default hidden behavior on the sphinx rendered scikit-learn.org. See: https://github.com/scikit-learn/scikit-learn/issues/21755 */display: inline-block !important;position: relative;}#sk-container-id-4 div.sk-text-repr-fallback {display: none;}</style><div id=\"sk-container-id-4\" class=\"sk-top-container\"><div class=\"sk-text-repr-fallback\"><pre>LogisticRegression(max_iter=1000)</pre><b>In a Jupyter environment, please rerun this cell to show the HTML representation or trust the notebook. <br />On GitHub, the HTML representation is unable to render, please try loading this page with nbviewer.org.</b></div><div class=\"sk-container\" hidden><div class=\"sk-item\"><div class=\"sk-estimator sk-toggleable\"><input class=\"sk-toggleable__control sk-hidden--visually\" id=\"sk-estimator-id-4\" type=\"checkbox\" checked><label for=\"sk-estimator-id-4\" class=\"sk-toggleable__label sk-toggleable__label-arrow\">LogisticRegression</label><div class=\"sk-toggleable__content\"><pre>LogisticRegression(max_iter=1000)</pre></div></div></div></div></div>"
      ],
      "text/plain": [
       "LogisticRegression(max_iter=1000)"
      ]
     },
     "execution_count": 27,
     "metadata": {},
     "output_type": "execute_result"
    }
   ],
   "source": [
    "logisticRegr2.fit(X_train, Y_train)"
   ]
  },
  {
   "cell_type": "code",
   "execution_count": 28,
   "id": "337f0380",
   "metadata": {},
   "outputs": [],
   "source": [
    "predictions2 = logisticRegr.predict(X_test)"
   ]
  },
  {
   "cell_type": "code",
   "execution_count": 29,
   "id": "109dafbb",
   "metadata": {},
   "outputs": [
    {
     "data": {
      "text/plain": [
       "<Figure size 432x288 with 0 Axes>"
      ]
     },
     "metadata": {},
     "output_type": "display_data"
    },
    {
     "data": {
      "image/png": "[encoded data removed]",
      "text/plain": [
       "<Figure size 864x576 with 1 Axes>"
      ]
     },
     "metadata": {
      "needs_background": "light"
     },
     "output_type": "display_data"
    },
    {
     "name": "stdout",
     "output_type": "stream",
     "text": [
      "\n",
      "\n",
      "              precision    recall  f1-score   support\n",
      "\n",
      "           0       0.82      0.49      0.61      2782\n",
      "           1       0.84      0.96      0.90      7987\n",
      "\n",
      "    accuracy                           0.84     10769\n",
      "   macro avg       0.83      0.73      0.76     10769\n",
      "weighted avg       0.84      0.84      0.83     10769\n",
      "\n"
     ]
    }
   ],
   "source": [
    "cm = confusion_matrix(Y_test, predictions2)\n",
    "plt.figure()\n",
    "plot_confusion_matrix(cm, figsize=(12,8), hide_ticks=True, cmap=plt.cm.Blues)\n",
    "plt.title(\"Scaled Logistic Regression - Confusion Matrix\")\n",
    "plt.xticks(range(2), [\"Positive Review\",\"Negative Review\"], fontsize=16)\n",
    "plt.yticks(range(2), [\"Positive Review\",\"Negative Review\"], fontsize=16)\n",
    "plt.show()\n",
    "print('\\n')\n",
    "print(classification_report(Y_test, predictions2))"
   ]
  },
  {
   "cell_type": "markdown",
   "id": "2b76df9a",
   "metadata": {},
   "source": [
    "# Support Vector Machines (SVM)"
   ]
  },
  {
   "cell_type": "markdown",
   "id": "f82cbeb9",
   "metadata": {},
   "source": [
    "# If a review is useful"
   ]
  },
  {
   "cell_type": "code",
   "execution_count": 30,
   "id": "093bb97b",
   "metadata": {},
   "outputs": [
    {
     "data": {
      "text/plain": [
       "count     53845.000000\n",
       "mean       2278.217866\n",
       "std        6293.197684\n",
       "min          14.000000\n",
       "25%         276.000000\n",
       "50%         582.000000\n",
       "75%        1795.000000\n",
       "max      206296.000000\n",
       "Name: User_Useful_count, dtype: float64"
      ]
     },
     "execution_count": 30,
     "metadata": {},
     "output_type": "execute_result"
    }
   ],
   "source": [
    "DF_Final['User_Useful_count'].describe()"
   ]
  },
  {
   "cell_type": "code",
   "execution_count": 31,
   "id": "a64d1347",
   "metadata": {},
   "outputs": [
    {
     "data": {
      "text/plain": [
       "count    53845.000000\n",
       "mean         2.923094\n",
       "std          7.773329\n",
       "min          0.000000\n",
       "25%          0.000000\n",
       "50%          1.000000\n",
       "75%          3.000000\n",
       "max        207.000000\n",
       "Name: Useful, dtype: float64"
      ]
     },
     "execution_count": 31,
     "metadata": {},
     "output_type": "execute_result"
    }
   ],
   "source": [
    "DF_Final['Useful'].describe()"
   ]
  },
  {
   "cell_type": "code",
   "execution_count": 32,
   "id": "5b230dfb",
   "metadata": {},
   "outputs": [],
   "source": [
    "vectorizer = CountVectorizer(max_features=1500, min_df=0.1, max_df=0.7, \n",
    "stop_words=stopwords.words('english'))\n",
    "features = vectorizer.fit_transform(documents).toarray()"
   ]
  },
  {
   "cell_type": "code",
   "execution_count": 33,
   "id": "0742d206",
   "metadata": {},
   "outputs": [
    {
     "data": {
      "text/html": [
       "<div>\n",
       "<style scoped>\n",
       "    .dataframe tbody tr th:only-of-type {\n",
       "        vertical-align: middle;\n",
       "    }\n",
       "\n",
       "    .dataframe tbody tr th {\n",
       "        vertical-align: top;\n",
       "    }\n",
       "\n",
       "    .dataframe thead th {\n",
       "        text-align: right;\n",
       "    }\n",
       "</style>\n",
       "<table border=\"1\" class=\"dataframe\">\n",
       "  <thead>\n",
       "    <tr style=\"text-align: right;\">\n",
       "      <th></th>\n",
       "      <th>Unnamed: 0</th>\n",
       "      <th>User_id</th>\n",
       "      <th>Bus_id</th>\n",
       "      <th>Star</th>\n",
       "      <th>Useful</th>\n",
       "      <th>Cool</th>\n",
       "      <th>Funny</th>\n",
       "      <th>Review</th>\n",
       "      <th>State</th>\n",
       "      <th>City</th>\n",
       "      <th>Bus_Ave_Star</th>\n",
       "      <th>User_Review_count</th>\n",
       "      <th>User_Useful_count</th>\n",
       "      <th>User_Funny_count</th>\n",
       "      <th>User_Cool_count</th>\n",
       "      <th>Elite</th>\n",
       "      <th>User_Fans</th>\n",
       "      <th>Users_Ave_Star</th>\n",
       "    </tr>\n",
       "  </thead>\n",
       "  <tbody>\n",
       "    <tr>\n",
       "      <th>0</th>\n",
       "      <td>0</td>\n",
       "      <td>4hBhtCSgoxkrFgHa4YAD-w</td>\n",
       "      <td>bbEXAEFr4RYHLlZ-HFssTA</td>\n",
       "      <td>1</td>\n",
       "      <td>0</td>\n",
       "      <td>0</td>\n",
       "      <td>0</td>\n",
       "      <td>Great burgers,fries and salad!  Burgers have a...</td>\n",
       "      <td>CA</td>\n",
       "      <td>Goleta</td>\n",
       "      <td>4.0</td>\n",
       "      <td>922</td>\n",
       "      <td>1687</td>\n",
       "      <td>694</td>\n",
       "      <td>1070</td>\n",
       "      <td>2015,2016,2017,2018,2019,20,20,2021</td>\n",
       "      <td>51</td>\n",
       "      <td>4.20</td>\n",
       "    </tr>\n",
       "    <tr>\n",
       "      <th>1</th>\n",
       "      <td>1</td>\n",
       "      <td>JYYYKt6TdVA4ng9lLcXt_g</td>\n",
       "      <td>SZU9c8V2GuREDN5KgyHFJw</td>\n",
       "      <td>1</td>\n",
       "      <td>0</td>\n",
       "      <td>0</td>\n",
       "      <td>0</td>\n",
       "      <td>We were a bit weary about trying the Shellfish...</td>\n",
       "      <td>CA</td>\n",
       "      <td>Santa Barbara</td>\n",
       "      <td>4.0</td>\n",
       "      <td>338</td>\n",
       "      <td>800</td>\n",
       "      <td>144</td>\n",
       "      <td>353</td>\n",
       "      <td>2012,2013,2014,2015,2016,2017,2018,2019,20,20,...</td>\n",
       "      <td>30</td>\n",
       "      <td>4.12</td>\n",
       "    </tr>\n",
       "    <tr>\n",
       "      <th>2</th>\n",
       "      <td>2</td>\n",
       "      <td>Uk3X2AypU8AqvcYEVf7s6Q</td>\n",
       "      <td>eL4lyE7LNoXEMvpcJ8WNVw</td>\n",
       "      <td>0</td>\n",
       "      <td>1</td>\n",
       "      <td>0</td>\n",
       "      <td>0</td>\n",
       "      <td>This was a tough one!   On the merits of the w...</td>\n",
       "      <td>CA</td>\n",
       "      <td>Santa Barbara</td>\n",
       "      <td>4.0</td>\n",
       "      <td>431</td>\n",
       "      <td>2126</td>\n",
       "      <td>1245</td>\n",
       "      <td>1476</td>\n",
       "      <td>2012,2013,2014,2015,2016,2017,2018,2019,20,20,...</td>\n",
       "      <td>76</td>\n",
       "      <td>4.05</td>\n",
       "    </tr>\n",
       "    <tr>\n",
       "      <th>3</th>\n",
       "      <td>3</td>\n",
       "      <td>LcqNuhqaYt5ekKzaRirmIg</td>\n",
       "      <td>SZU9c8V2GuREDN5KgyHFJw</td>\n",
       "      <td>1</td>\n",
       "      <td>0</td>\n",
       "      <td>1</td>\n",
       "      <td>0</td>\n",
       "      <td>I love trying fresh seafood on piers, wharfs a...</td>\n",
       "      <td>CA</td>\n",
       "      <td>Santa Barbara</td>\n",
       "      <td>4.0</td>\n",
       "      <td>258</td>\n",
       "      <td>452</td>\n",
       "      <td>125</td>\n",
       "      <td>183</td>\n",
       "      <td>2015,2016,2017</td>\n",
       "      <td>37</td>\n",
       "      <td>3.99</td>\n",
       "    </tr>\n",
       "    <tr>\n",
       "      <th>4</th>\n",
       "      <td>4</td>\n",
       "      <td>gasLVm0KRwrVhPGRcqATjw</td>\n",
       "      <td>CHh0ZFrQcsk4boOItr2Zuw</td>\n",
       "      <td>1</td>\n",
       "      <td>0</td>\n",
       "      <td>2</td>\n",
       "      <td>0</td>\n",
       "      <td>I stopped in because I was hungry for some sna...</td>\n",
       "      <td>CA</td>\n",
       "      <td>Carpinteria</td>\n",
       "      <td>3.0</td>\n",
       "      <td>1638</td>\n",
       "      <td>2658</td>\n",
       "      <td>933</td>\n",
       "      <td>2297</td>\n",
       "      <td>2014,2015,2016,2017,2018,2019,20,20,2021</td>\n",
       "      <td>105</td>\n",
       "      <td>3.79</td>\n",
       "    </tr>\n",
       "  </tbody>\n",
       "</table>\n",
       "</div>"
      ],
      "text/plain": [
       "   Unnamed: 0                 User_id                  Bus_id  Star  Useful  \\\n",
       "0           0  4hBhtCSgoxkrFgHa4YAD-w  bbEXAEFr4RYHLlZ-HFssTA     1       0   \n",
       "1           1  JYYYKt6TdVA4ng9lLcXt_g  SZU9c8V2GuREDN5KgyHFJw     1       0   \n",
       "2           2  Uk3X2AypU8AqvcYEVf7s6Q  eL4lyE7LNoXEMvpcJ8WNVw     0       1   \n",
       "3           3  LcqNuhqaYt5ekKzaRirmIg  SZU9c8V2GuREDN5KgyHFJw     1       0   \n",
       "4           4  gasLVm0KRwrVhPGRcqATjw  CHh0ZFrQcsk4boOItr2Zuw     1       0   \n",
       "\n",
       "   Cool  Funny                                             Review State  \\\n",
       "0     0      0  Great burgers,fries and salad!  Burgers have a...    CA   \n",
       "1     0      0  We were a bit weary about trying the Shellfish...    CA   \n",
       "2     0      0  This was a tough one!   On the merits of the w...    CA   \n",
       "3     1      0  I love trying fresh seafood on piers, wharfs a...    CA   \n",
       "4     2      0  I stopped in because I was hungry for some sna...    CA   \n",
       "\n",
       "            City  Bus_Ave_Star  User_Review_count  User_Useful_count  \\\n",
       "0         Goleta           4.0                922               1687   \n",
       "1  Santa Barbara           4.0                338                800   \n",
       "2  Santa Barbara           4.0                431               2126   \n",
       "3  Santa Barbara           4.0                258                452   \n",
       "4    Carpinteria           3.0               1638               2658   \n",
       "\n",
       "   User_Funny_count  User_Cool_count  \\\n",
       "0               694             1070   \n",
       "1               144              353   \n",
       "2              1245             1476   \n",
       "3               125              183   \n",
       "4               933             2297   \n",
       "\n",
       "                                               Elite  User_Fans  \\\n",
       "0                2015,2016,2017,2018,2019,20,20,2021         51   \n",
       "1  2012,2013,2014,2015,2016,2017,2018,2019,20,20,...         30   \n",
       "2  2012,2013,2014,2015,2016,2017,2018,2019,20,20,...         76   \n",
       "3                                     2015,2016,2017         37   \n",
       "4           2014,2015,2016,2017,2018,2019,20,20,2021        105   \n",
       "\n",
       "   Users_Ave_Star  \n",
       "0            4.20  \n",
       "1            4.12  \n",
       "2            4.05  \n",
       "3            3.99  \n",
       "4            3.79  "
      ]
     },
     "execution_count": 33,
     "metadata": {},
     "output_type": "execute_result"
    }
   ],
   "source": [
    "# Changes usefullness into a binary classification problem where {1 : Useful, 0 : Unuseful} \n",
    "# We choose 3 to be our cutoff as it is the mean value for usefullness\n",
    "# Values that exceed 3 are considered to be above average useful reviews\n",
    "\n",
    "DF_Final['Useful'] = (DF_Final['Useful']>3).astype(int)\n",
    "# Check if it worked\n",
    "DF_Final.head()"
   ]
  },
  {
   "cell_type": "code",
   "execution_count": 34,
   "id": "3e54b5ad",
   "metadata": {},
   "outputs": [],
   "source": [
    "Y_useful = DF_Final['Useful']\n",
    "useful = features"
   ]
  },
  {
   "cell_type": "code",
   "execution_count": 35,
   "id": "6aaa2f5d",
   "metadata": {},
   "outputs": [],
   "source": [
    "useful_train, useful_test, Y_useful_train, Y_useful_test = train_test_split(useful, Y_useful, train_size=0.8)"
   ]
  },
  {
   "cell_type": "code",
   "execution_count": 36,
   "id": "f5e54dca",
   "metadata": {},
   "outputs": [
    {
     "data": {
      "text/html": [
       "<style>#sk-container-id-5 {color: black;background-color: white;}#sk-container-id-5 pre{padding: 0;}#sk-container-id-5 div.sk-toggleable {background-color: white;}#sk-container-id-5 label.sk-toggleable__label {cursor: pointer;display: block;width: 100%;margin-bottom: 0;padding: 0.3em;box-sizing: border-box;text-align: center;}#sk-container-id-5 label.sk-toggleable__label-arrow:before {content: \"▸\";float: left;margin-right: 0.25em;color: #696969;}#sk-container-id-5 label.sk-toggleable__label-arrow:hover:before {color: black;}#sk-container-id-5 div.sk-estimator:hover label.sk-toggleable__label-arrow:before {color: black;}#sk-container-id-5 div.sk-toggleable__content {max-height: 0;max-width: 0;overflow: hidden;text-align: left;background-color: #f0f8ff;}#sk-container-id-5 div.sk-toggleable__content pre {margin: 0.2em;color: black;border-radius: 0.25em;background-color: #f0f8ff;}#sk-container-id-5 input.sk-toggleable__control:checked~div.sk-toggleable__content {max-height: 200px;max-width: 100%;overflow: auto;}#sk-container-id-5 input.sk-toggleable__control:checked~label.sk-toggleable__label-arrow:before {content: \"▾\";}#sk-container-id-5 div.sk-estimator input.sk-toggleable__control:checked~label.sk-toggleable__label {background-color: #d4ebff;}#sk-container-id-5 div.sk-label input.sk-toggleable__control:checked~label.sk-toggleable__label {background-color: #d4ebff;}#sk-container-id-5 input.sk-hidden--visually {border: 0;clip: rect(1px 1px 1px 1px);clip: rect(1px, 1px, 1px, 1px);height: 1px;margin: -1px;overflow: hidden;padding: 0;position: absolute;width: 1px;}#sk-container-id-5 div.sk-estimator {font-family: monospace;background-color: #f0f8ff;border: 1px dotted black;border-radius: 0.25em;box-sizing: border-box;margin-bottom: 0.5em;}#sk-container-id-5 div.sk-estimator:hover {background-color: #d4ebff;}#sk-container-id-5 div.sk-parallel-item::after {content: \"\";width: 100%;border-bottom: 1px solid gray;flex-grow: 1;}#sk-container-id-5 div.sk-label:hover label.sk-toggleable__label {background-color: #d4ebff;}#sk-container-id-5 div.sk-serial::before {content: \"\";position: absolute;border-left: 1px solid gray;box-sizing: border-box;top: 0;bottom: 0;left: 50%;z-index: 0;}#sk-container-id-5 div.sk-serial {display: flex;flex-direction: column;align-items: center;background-color: white;padding-right: 0.2em;padding-left: 0.2em;position: relative;}#sk-container-id-5 div.sk-item {position: relative;z-index: 1;}#sk-container-id-5 div.sk-parallel {display: flex;align-items: stretch;justify-content: center;background-color: white;position: relative;}#sk-container-id-5 div.sk-item::before, #sk-container-id-5 div.sk-parallel-item::before {content: \"\";position: absolute;border-left: 1px solid gray;box-sizing: border-box;top: 0;bottom: 0;left: 50%;z-index: -1;}#sk-container-id-5 div.sk-parallel-item {display: flex;flex-direction: column;z-index: 1;position: relative;background-color: white;}#sk-container-id-5 div.sk-parallel-item:first-child::after {align-self: flex-end;width: 50%;}#sk-container-id-5 div.sk-parallel-item:last-child::after {align-self: flex-start;width: 50%;}#sk-container-id-5 div.sk-parallel-item:only-child::after {width: 0;}#sk-container-id-5 div.sk-dashed-wrapped {border: 1px dashed gray;margin: 0 0.4em 0.5em 0.4em;box-sizing: border-box;padding-bottom: 0.4em;background-color: white;}#sk-container-id-5 div.sk-label label {font-family: monospace;font-weight: bold;display: inline-block;line-height: 1.2em;}#sk-container-id-5 div.sk-label-container {text-align: center;}#sk-container-id-5 div.sk-container {/* jupyter's `normalize.less` sets `[hidden] { display: none; }` but bootstrap.min.css set `[hidden] { display: none !important; }` so we also need the `!important` here to be able to override the default hidden behavior on the sphinx rendered scikit-learn.org. See: https://github.com/scikit-learn/scikit-learn/issues/21755 */display: inline-block !important;position: relative;}#sk-container-id-5 div.sk-text-repr-fallback {display: none;}</style><div id=\"sk-container-id-5\" class=\"sk-top-container\"><div class=\"sk-text-repr-fallback\"><pre>MultinomialNB()</pre><b>In a Jupyter environment, please rerun this cell to show the HTML representation or trust the notebook. <br />On GitHub, the HTML representation is unable to render, please try loading this page with nbviewer.org.</b></div><div class=\"sk-container\" hidden><div class=\"sk-item\"><div class=\"sk-estimator sk-toggleable\"><input class=\"sk-toggleable__control sk-hidden--visually\" id=\"sk-estimator-id-5\" type=\"checkbox\" checked><label for=\"sk-estimator-id-5\" class=\"sk-toggleable__label sk-toggleable__label-arrow\">MultinomialNB</label><div class=\"sk-toggleable__content\"><pre>MultinomialNB()</pre></div></div></div></div></div>"
      ],
      "text/plain": [
       "MultinomialNB()"
      ]
     },
     "execution_count": 36,
     "metadata": {},
     "output_type": "execute_result"
    }
   ],
   "source": [
    "use_classifier = MultinomialNB()\n",
    "use_classifier.fit(useful_train, Y_useful_train)"
   ]
  },
  {
   "cell_type": "code",
   "execution_count": 37,
   "id": "4a2e0e17",
   "metadata": {},
   "outputs": [],
   "source": [
    "use_preds = use_classifier.predict(useful_test)"
   ]
  },
  {
   "cell_type": "markdown",
   "id": "dcf4c9b0",
   "metadata": {},
   "source": [
    "# We want to minimize the amount of False Negative\n",
    "## This is because we would rather have "
   ]
  },
  {
   "cell_type": "code",
   "execution_count": 38,
   "id": "5d021aa0",
   "metadata": {},
   "outputs": [
    {
     "data": {
      "text/plain": [
       "<Figure size 432x288 with 0 Axes>"
      ]
     },
     "metadata": {},
     "output_type": "display_data"
    },
    {
     "data": {
      "image/png": "[encoded data removed]",
      "text/plain": [
       "<Figure size 864x576 with 1 Axes>"
      ]
     },
     "metadata": {
      "needs_background": "light"
     },
     "output_type": "display_data"
    },
    {
     "name": "stdout",
     "output_type": "stream",
     "text": [
      "\n",
      "\n",
      "              precision    recall  f1-score   support\n",
      "\n",
      "           0       0.81      0.95      0.88      8495\n",
      "           1       0.53      0.19      0.28      2274\n",
      "\n",
      "    accuracy                           0.79     10769\n",
      "   macro avg       0.67      0.57      0.58     10769\n",
      "weighted avg       0.75      0.79      0.75     10769\n",
      "\n"
     ]
    }
   ],
   "source": [
    "cm = confusion_matrix(Y_useful_test, use_preds)\n",
    "plt.figure()\n",
    "plot_confusion_matrix(cm, figsize=(12,8), hide_ticks=True, cmap=plt.cm.Blues)\n",
    "plt.title(\"Multinomial Naive Bayes - Confusion Matrix\")\n",
    "plt.xticks(range(2), [\"Useful Review\",\"Unuseful Review\"], fontsize=16)\n",
    "plt.yticks(range(2), [\"Useful Review\",\"Unuseful Review\"], fontsize=16)\n",
    "plt.show()\n",
    "print('\\n')\n",
    "print(classification_report(Y_useful_test, use_preds))"
   ]
  }
 ],
 "metadata": {
  "kernelspec": {
   "display_name": "Python 3 (ipykernel)",
   "language": "python",
   "name": "python3"
  },
  "language_info": {
   "codemirror_mode": {
    "name": "ipython",
    "version": 3
   },
   "file_extension": ".py",
   "mimetype": "text/x-python",
   "name": "python",
   "nbconvert_exporter": "python",
   "pygments_lexer": "ipython3",
   "version": "3.9.10"
  }
 },
 "nbformat": 4,
 "nbformat_minor": 5
}
